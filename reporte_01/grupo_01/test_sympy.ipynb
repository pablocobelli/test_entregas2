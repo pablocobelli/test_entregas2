{
 "cells": [
  {
   "cell_type": "code",
   "execution_count": 1,
   "id": "compressed-rough",
   "metadata": {},
   "outputs": [],
   "source": [
    "import sympy as sp\n",
    "import numpy as np"
   ]
  },
  {
   "cell_type": "code",
   "execution_count": 2,
   "id": "formal-variety",
   "metadata": {},
   "outputs": [],
   "source": [
    "L, H, D, Pi = sp.symbols('L, H, D, pi')"
   ]
  },
  {
   "cell_type": "code",
   "execution_count": 15,
   "id": "strategic-congress",
   "metadata": {},
   "outputs": [],
   "source": [
    "L_n = 4.5\n",
    "H_n = 7.48\n",
    "D_n = 151"
   ]
  },
  {
   "cell_type": "code",
   "execution_count": 16,
   "id": "confused-series",
   "metadata": {},
   "outputs": [],
   "source": [
    "func_sym = Pi*L**2/D**(3/2)*sp.log(H)"
   ]
  },
  {
   "cell_type": "code",
   "execution_count": 17,
   "id": "owned-bradford",
   "metadata": {},
   "outputs": [
    {
     "data": {
      "text/latex": [
       "$\\displaystyle \\frac{L^{2} \\pi \\log{\\left(H \\right)}}{D^{1.5}}$"
      ],
      "text/plain": [
       "D**(-1.5)*L**2*pi*log(H)"
      ]
     },
     "execution_count": 17,
     "metadata": {},
     "output_type": "execute_result"
    }
   ],
   "source": [
    "func_sym"
   ]
  },
  {
   "cell_type": "code",
   "execution_count": 18,
   "id": "hungry-drive",
   "metadata": {},
   "outputs": [],
   "source": [
    "df_dL_s = sp.diff(func_sym, L)"
   ]
  },
  {
   "cell_type": "code",
   "execution_count": 19,
   "id": "agricultural-dispatch",
   "metadata": {},
   "outputs": [
    {
     "data": {
      "text/latex": [
       "$\\displaystyle \\frac{2 L \\pi \\log{\\left(H \\right)}}{D^{1.5}}$"
      ],
      "text/plain": [
       "2*D**(-1.5)*L*pi*log(H)"
      ]
     },
     "execution_count": 19,
     "metadata": {},
     "output_type": "execute_result"
    }
   ],
   "source": [
    "df_dL_s"
   ]
  },
  {
   "cell_type": "code",
   "execution_count": 20,
   "id": "single-clearing",
   "metadata": {},
   "outputs": [],
   "source": [
    "df_dL_n = df_dL_s.evalf(subs={Pi:np.pi,L:L_n,D:D_n,H:H_n})"
   ]
  },
  {
   "cell_type": "code",
   "execution_count": 21,
   "id": "remarkable-boost",
   "metadata": {},
   "outputs": [
    {
     "name": "stdout",
     "output_type": "stream",
     "text": [
      "0.0306623321136998\n"
     ]
    }
   ],
   "source": [
    "print(df_dL_n)"
   ]
  },
  {
   "cell_type": "code",
   "execution_count": 23,
   "id": "greatest-luxembourg",
   "metadata": {},
   "outputs": [
    {
     "name": "stdout",
     "output_type": "stream",
     "text": [
      "0.030662332113699838\n"
     ]
    }
   ],
   "source": [
    "print(2*L_n*np.pi*np.log(H_n)/(D_n**(3/2)))"
   ]
  },
  {
   "cell_type": "code",
   "execution_count": null,
   "id": "burning-replication",
   "metadata": {},
   "outputs": [],
   "source": []
  }
 ],
 "metadata": {
  "kernelspec": {
   "display_name": "Python 3",
   "language": "python",
   "name": "python3"
  },
  "language_info": {
   "codemirror_mode": {
    "name": "ipython",
    "version": 3
   },
   "file_extension": ".py",
   "mimetype": "text/x-python",
   "name": "python",
   "nbconvert_exporter": "python",
   "pygments_lexer": "ipython3",
   "version": "3.8.8"
  }
 },
 "nbformat": 4,
 "nbformat_minor": 5
}
